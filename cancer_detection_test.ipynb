{
 "cells": [
  {
   "cell_type": "markdown",
   "metadata": {},
   "source": [
    "# Load learned model\n",
    "We deploy the learned model which have about 30,000 sample image's knowldege"
   ]
  },
  {
   "cell_type": "code",
   "execution_count": 2,
   "metadata": {},
   "outputs": [],
   "source": [
    "import cv2\n",
    "import matplotlib.pyplot as plt\n",
    "import _pickle as cPickle\n",
    "import numpy as np\n",
    "\n",
    "#f = open(\"/home/jtlee/workspace/cancer_segmentation/ckpt/ckpt2_10.pkl\", \"rb\")\n",
    "#rf = cPickle.load(f)\n",
    "\n"
   ]
  },
  {
   "cell_type": "markdown",
   "metadata": {},
   "source": [
    "## Show example that doesn't contains in Training set\n",
    "First example is one of CT image, which can be input of model\n",
    "\n",
    "Another one is label for the first. the white part means cancer"
   ]
  },
  {
   "cell_type": "code",
   "execution_count": 11,
   "metadata": {},
   "outputs": [
    {
     "data": {
      "image/png": "[encoded data removed]",
      "text/plain": [
       "<matplotlib.figure.Figure at 0x7f5f5fcda550>"
      ]
     },
     "metadata": {},
     "output_type": "display_data"
    },
    {
     "data": {
      "image/png": "[encoded data removed]",
      "text/plain": [
       "<matplotlib.figure.Figure at 0x7f5f5fc4d400>"
      ]
     },
     "metadata": {},
     "output_type": "display_data"
    }
   ],
   "source": [
    "# Read image\n",
    "target_name = \"000047.dcm.png\"\n",
    "target_file = \"/home/jtlee/workspace/cancer_segmentation/data/CT_PNG100/NSCLC-Radiomics/LUNG1-173/\" + target_name\n",
    "image = cv2.imread(target_file, cv2.IMREAD_GRAYSCALE)\n",
    "image = cv2.cvtColor(image, cv2.COLOR_GRAY2RGB)\n",
    "\n",
    "gt_name = \"000047.dcm.gt.png\"\n",
    "gt_file = \"/home/jtlee/workspace/cancer_segmentation/data/CT_PNG100/NSCLC-Radiomics/LUNG1-173/\" + gt_name\n",
    "gt_image = cv2.imread(gt_file, cv2.IMREAD_GRAYSCALE)\n",
    "gt_image = cv2.cvtColor(gt_image, cv2.COLOR_GRAY2RGB)\n",
    "\n",
    "plt.figure()\n",
    "plt.axis(\"off\")\n",
    "plt.imshow(image)\n",
    "plt.show()\n",
    "plt.figure()\n",
    "plt.axis(\"off\")\n",
    "plt.imshow(gt_image)\n",
    "plt.show()"
   ]
  },
  {
   "cell_type": "markdown",
   "metadata": {},
   "source": [
    "## Show result of above image\n",
    "How looks like compare to above label? Is it reasonable?"
   ]
  },
  {
   "cell_type": "code",
   "execution_count": null,
   "metadata": {
    "collapsed": true
   },
   "outputs": [],
   "source": [
    "def context_feature(image, size = 3):\n",
    "    if size % 2 == 0:\n",
    "        raise NotImplementedError(\" [!] Currently even size of context feature is not supporting!\")\n",
    "    padding = int(size / 2)\n",
    "    shape = image.shape\n",
    "    pad_image = np.zeros((shape[0] + padding*2, shape[1] + padding*2))\n",
    "    pad_image[padding:-padding, padding:-padding] = image\n",
    "\n",
    "    features = []\n",
    "    for i in range(padding, shape[0]+padding):\n",
    "        for j in range(padding, shape[1]+padding):\n",
    "            feature = pad_image[i-padding:i+padding+1, j-padding:j+padding+1].reshape((-1))\n",
    "            np.append(feature, [i, j]) # add location info\n",
    "            features.append(feature)\n",
    "\n",
    "    features = np.concatenate(features, axis = 0)\n",
    "    features = features.reshape((-1, size**2))\n",
    "    return features"
   ]
  },
  {
   "cell_type": "code",
   "execution_count": 57,
   "metadata": {
    "collapsed": true
   },
   "outputs": [],
   "source": [
    "# cancer detection\n",
    "img = cv2.imread(image_file, cv2.IMREAD_GRAYSCALE) # gray\n",
    "img_shape = img.shape\n",
    "flat = context_featue(image, size = 100)\n",
    "\n",
    "pred = self.rf.predict(flat)\n",
    "pred = pred.reshape((100, 100))\n",
    "\n",
    "plt.figure()\n",
    "plt.axis('off')\n",
    "plt.imshow(pred)\n",
    "plt.show()"
   ]
  },
  {
   "cell_type": "code",
   "execution_count": null,
   "metadata": {
    "collapsed": true
   },
   "outputs": [],
   "source": []
  }
 ],
 "metadata": {
  "kernelspec": {
   "display_name": "Python 3",
   "language": "python",
   "name": "python3"
  },
  "language_info": {
   "codemirror_mode": {
    "name": "ipython",
    "version": 3
   },
   "file_extension": ".py",
   "mimetype": "text/x-python",
   "name": "python",
   "nbconvert_exporter": "python",
   "pygments_lexer": "ipython3",
   "version": "3.6.3"
  }
 },
 "nbformat": 4,
 "nbformat_minor": 2
}
